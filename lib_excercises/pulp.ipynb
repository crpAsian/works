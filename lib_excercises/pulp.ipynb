{
 "cells": [
  {
   "cell_type": "code",
   "execution_count": 7,
   "metadata": {},
   "outputs": [],
   "source": [
    "import pulp"
   ]
  },
  {
   "attachments": {
    "image.png": {
     "image/png": "[encoded data removed]"
    }
   },
   "cell_type": "markdown",
   "metadata": {},
   "source": [
    "![image.png](attachment:image.png)"
   ]
  },
  {
   "cell_type": "code",
   "execution_count": 8,
   "metadata": {},
   "outputs": [],
   "source": [
    "# 변수 정의\n",
    "x1 = pulp.LpVariable('x1', lowBound=0) # 상한->upBound\n",
    "x2 = pulp.LpVariable('x2', lowBound=0)\n",
    "x3 = pulp.LpVariable('x3', lowBound=0)\n",
    "\n",
    "# 문제 정의\n",
    "# 최대화 문제-> pulp.LpMaximize\n",
    "model = pulp.LpProblem('test_lp', pulp.LpMinimize) # 최소화 문제"
   ]
  },
  {
   "cell_type": "code",
   "execution_count": 9,
   "metadata": {},
   "outputs": [],
   "source": [
    "model += 6*x1 + 4*x2 + 2*x3 # 목적 함수 정의\n",
    "\n",
    "# 제약 조건 추가\n",
    "# 부등호, 등호 있는지로 목적함수와 구분\n",
    "model += x1 + x3 >= 3\n",
    "model += x2 + x3 >= 4\n",
    "\n",
    "# 목적 함수와 제약 조건에도 이름을 붙일 수 있습니다. 바로 해당 문장 끝에 쉼표를 찍고 이름을 적으면 됩니다. 예를 들어 목적 함수의 이름을 \"my_obj_func\"으로 정하고 싶으면 아래와 같이 하면 됩니다.\n",
    "model += 4*x1 + 2*x2 + x3 >= 5, 'my_obj_func'"
   ]
  },
  {
   "cell_type": "code",
   "execution_count": 10,
   "metadata": {},
   "outputs": [
    {
     "data": {
      "text/plain": [
       "1"
      ]
     },
     "execution_count": 10,
     "metadata": {},
     "output_type": "execute_result"
    }
   ],
   "source": [
    "# 문제 풀기\n",
    "model.solve()"
   ]
  },
  {
   "cell_type": "code",
   "execution_count": 11,
   "metadata": {},
   "outputs": [
    {
     "data": {
      "text/plain": [
       "9.5"
      ]
     },
     "execution_count": 11,
     "metadata": {},
     "output_type": "execute_result"
    }
   ],
   "source": [
    "# 풀었으면 최적값(optimal value)과 최적해(optimal solution)을 얻어 내야죠. 최적값을 얻는 방법은 아래와 같습니다.\n",
    "pulp.value(model.objective)"
   ]
  },
  {
   "cell_type": "code",
   "execution_count": 12,
   "metadata": {},
   "outputs": [
    {
     "name": "stdout",
     "output_type": "stream",
     "text": [
      "0.25 0.0 4.0\n"
     ]
    }
   ],
   "source": [
    "# 최적해, 즉 최적값을 얻기 위해 x1,x2,x3이 가져야 하는 값을 얻는 방법은 다음과 같습니다.\n",
    "print(x1.varValue, x2.varValue, x3.varValue)"
   ]
  },
  {
   "cell_type": "code",
   "execution_count": 13,
   "metadata": {},
   "outputs": [
    {
     "data": {
      "text/plain": [
       "[x1, x2, x3]"
      ]
     },
     "execution_count": 13,
     "metadata": {},
     "output_type": "execute_result"
    }
   ],
   "source": [
    "# model.writeLP('out.txt')"
   ]
  },
  {
   "cell_type": "code",
   "execution_count": null,
   "metadata": {},
   "outputs": [],
   "source": [
    "# 예를 들어, LP에 필요한 변수가 x1,⋯,xn이고, 이 모든 변수들이 0보다 크거나 같아야 할 때, 이 함수를 이용해 아래와 같이 적을 수 있습니다.\n",
    "\n",
    "# idxlist = [i + 1 for i in range(n)]\n",
    "# x = pulp.LpVariable.dicts('x', idxlist, lowBound=0)\n",
    "\n",
    "# 특정 인덱스의 변수를 호출하고 싶을 때도 파이썬의 dict와 똑같이 사용하면 됩니다. 예를 들어, x1+x3+x7≥6의 제약 조건을 만들고 싶다면 아래와 같이 쓰면 됩니다.\n",
    "\n",
    "# x[1] + x[3] + x[7] >= 6"
   ]
  },
  {
   "cell_type": "markdown",
   "metadata": {},
   "source": [
    "https://gazelle-and-cs.tistory.com/89"
   ]
  }
 ],
 "metadata": {
  "kernelspec": {
   "display_name": "Python 3",
   "language": "python",
   "name": "python3"
  },
  "language_info": {
   "codemirror_mode": {
    "name": "ipython",
    "version": 3
   },
   "file_extension": ".py",
   "mimetype": "text/x-python",
   "name": "python",
   "nbconvert_exporter": "python",
   "pygments_lexer": "ipython3",
   "version": "3.11.2"
  }
 },
 "nbformat": 4,
 "nbformat_minor": 2
}
